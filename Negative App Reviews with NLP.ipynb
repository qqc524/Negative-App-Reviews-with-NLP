{
 "cells": [
  {
   "cell_type": "markdown",
   "id": "f44ea59a-7ef6-4fd0-a1d9-32400b17bf78",
   "metadata": {},
   "source": [
    "<h1 style=\"text-align:center; font-size:40px; color:black;\"> Analyzing Negative App Reviews with NLP and Clustering </h1>"
   ]
  },
  {
   "cell_type": "markdown",
   "id": "c79a760b-d438-41bb-b1a1-2578773c0fe0",
   "metadata": {},
   "source": [
    "<h1 style=\"font-size:32px;\"> 📖 Project Summary </h1>\n",
    "\n",
    "This project focuses on analyzing negative Google Play Store reviews to uncover the main issues users face with a mobile app. Using Natural Language Processing (NLP) techniques from NLTK, the text data was cleaned and prepared for analysis. K-means clustering from scikit-learn was then applied to group similar reviews into categories.\n",
    "\n"
   ]
  },
  {
   "cell_type": "markdown",
   "id": "6dbf9bc4-d66b-4cc1-9497-12d1adb64b19",
   "metadata": {},
   "source": [
    "<h1 style=\"font-size:32px\">🔬 Dataset Overview </h1>\n",
    "\n",
    "The dataset used in this project comes from Google Play Store reviews. It contains user feedback along with the rating (or score) each user assigned to the app. The dataset is stored in a file called `reviews.csv`.\n",
    "\n",
    "\r\n",
    "| Column      | Description                                                  |\r\n",
    "|-------------|--------------------------------------------------------------|\r\n",
    "| `content`   | The written text of each review. Since this is unstructured text, it requires preprocessing before applying NLP techniques. |\r\n",
    "| `score`     | The numerical rating (1–5) given by the user. A score of **1** usually represents a very negative experience, while **5** indicates a highly positive one. |\r\n",
    "\r\n",
    "For this project, the analysis focuses on **negative reviews** (mainly scores of 1 and 2). These reviews will be explored to uncover recurring issues and grouped into categories using clustering.  \r\n"
   ]
  },
  {
   "cell_type": "code",
   "execution_count": 1,
   "id": "48172b7a-d771-435b-a6fe-c99134ac5eba",
   "metadata": {
    "executionCancelledAt": null,
    "executionTime": 4301,
    "lastExecutedAt": 1759275177527,
    "lastExecutedByKernel": "650fb16c-6b2c-4c43-9a4a-d869d4e009c6",
    "lastScheduledRunId": null,
    "lastSuccessfullyExecutedCode": "# Import necessary libraries\nimport pandas as pd\nimport numpy as np\nfrom sklearn.feature_extraction.text import TfidfVectorizer\nfrom sklearn.cluster import KMeans\nimport nltk\nfrom nltk.corpus import stopwords\nfrom nltk.tokenize import word_tokenize"
   },
   "outputs": [],
   "source": [
    "import pandas as pd\n",
    "import numpy as np\n",
    "from sklearn.feature_extraction.text import TfidfVectorizer\n",
    "from sklearn.cluster import KMeans\n",
    "import nltk\n",
    "from nltk.corpus import stopwords\n",
    "from nltk.tokenize import word_tokenize\n",
    "import matplotlib.pyplot as plt\n",
    "from nltk.stem import WordNetLemmatizer\n",
    "import re"
   ]
  },
  {
   "cell_type": "code",
   "execution_count": 2,
   "id": "8a6577b0-9915-43c7-b1db-b0c106a71cca",
   "metadata": {
    "executionCancelledAt": null,
    "executionTime": null,
    "lastExecutedAt": null,
    "lastExecutedByKernel": null,
    "lastScheduledRunId": null,
    "lastSuccessfullyExecutedCode": null,
    "outputsMetadata": {
     "0": {
      "height": 101,
      "type": "stream"
     }
    }
   },
   "outputs": [
    {
     "data": {
      "text/plain": [
       "True"
      ]
     },
     "execution_count": 2,
     "metadata": {},
     "output_type": "execute_result"
    }
   ],
   "source": [
    "# Download NLTK resources\n",
    "# punkt -> Tokenization\n",
    "# stopwords -> Stop words removal\n",
    "nltk.download(\"stopwords\", quiet=True)\n",
    "nltk.download(\"punkt\", quiet=True)\n",
    "nltk.download(\"wordnet\", quiet=True)"
   ]
  },
  {
   "cell_type": "markdown",
   "id": "7ce46e33-1d9f-41a2-af7e-4ef6d3636fa8",
   "metadata": {},
   "source": [
    "## 👀 Explore the Data"
   ]
  },
  {
   "cell_type": "code",
   "execution_count": 3,
   "id": "7fbf3e3f-0526-4f53-908e-0bf9913f213d",
   "metadata": {
    "executionCancelledAt": null,
    "executionTime": null,
    "lastExecutedAt": null,
    "lastExecutedByKernel": null,
    "lastScheduledRunId": null,
    "lastSuccessfullyExecutedCode": null,
    "outputsMetadata": {
     "0": {
      "height": 550,
      "tableState": {},
      "type": "dataFrame"
     }
    }
   },
   "outputs": [
    {
     "data": {
      "text/html": [
       "<div>\n",
       "<style scoped>\n",
       "    .dataframe tbody tr th:only-of-type {\n",
       "        vertical-align: middle;\n",
       "    }\n",
       "\n",
       "    .dataframe tbody tr th {\n",
       "        vertical-align: top;\n",
       "    }\n",
       "\n",
       "    .dataframe thead th {\n",
       "        text-align: right;\n",
       "    }\n",
       "</style>\n",
       "<table border=\"1\" class=\"dataframe\">\n",
       "  <thead>\n",
       "    <tr style=\"text-align: right;\">\n",
       "      <th></th>\n",
       "      <th>content</th>\n",
       "      <th>score</th>\n",
       "    </tr>\n",
       "  </thead>\n",
       "  <tbody>\n",
       "    <tr>\n",
       "      <th>0</th>\n",
       "      <td>I cannot open the app anymore</td>\n",
       "      <td>1</td>\n",
       "    </tr>\n",
       "    <tr>\n",
       "      <th>1</th>\n",
       "      <td>I have been begging for a refund from this app...</td>\n",
       "      <td>1</td>\n",
       "    </tr>\n",
       "    <tr>\n",
       "      <th>2</th>\n",
       "      <td>Very costly for the premium version (approx In...</td>\n",
       "      <td>1</td>\n",
       "    </tr>\n",
       "    <tr>\n",
       "      <th>3</th>\n",
       "      <td>Used to keep me organized, but all the 2020 UP...</td>\n",
       "      <td>1</td>\n",
       "    </tr>\n",
       "    <tr>\n",
       "      <th>4</th>\n",
       "      <td>Dan Birthday Oct 28</td>\n",
       "      <td>1</td>\n",
       "    </tr>\n",
       "  </tbody>\n",
       "</table>\n",
       "</div>"
      ],
      "text/plain": [
       "                                             content  score\n",
       "0                      I cannot open the app anymore      1\n",
       "1  I have been begging for a refund from this app...      1\n",
       "2  Very costly for the premium version (approx In...      1\n",
       "3  Used to keep me organized, but all the 2020 UP...      1\n",
       "4                                Dan Birthday Oct 28      1"
      ]
     },
     "execution_count": 3,
     "metadata": {},
     "output_type": "execute_result"
    }
   ],
   "source": [
    "# Load the reviews dataset and preview it\n",
    "reviews = pd.read_csv(\"reviews.csv\")\n",
    "reviews.head()"
   ]
  },
  {
   "cell_type": "code",
   "execution_count": 4,
   "id": "138fbd5d-9108-4340-aec4-0685c8eaa3a1",
   "metadata": {},
   "outputs": [
    {
     "name": "stdout",
     "output_type": "stream",
     "text": [
      "Dataset shape: (12495, 2)\n",
      "\n",
      "Dataset info:\n",
      "<class 'pandas.core.frame.DataFrame'>\n",
      "RangeIndex: 12495 entries, 0 to 12494\n",
      "Data columns (total 2 columns):\n",
      " #   Column   Non-Null Count  Dtype \n",
      "---  ------   --------------  ----- \n",
      " 0   content  12495 non-null  object\n",
      " 1   score    12495 non-null  int64 \n",
      "dtypes: int64(1), object(1)\n",
      "memory usage: 195.4+ KB\n",
      "None\n",
      "\n",
      "Missing values per column:\n",
      "content    0\n",
      "score      0\n",
      "dtype: int64\n"
     ]
    }
   ],
   "source": [
    "# Shape of dataset (rows, columns)\n",
    "print(\"Dataset shape:\", reviews.shape)\n",
    "\n",
    "# Data types and non-null counts\n",
    "print(\"\\nDataset info:\")\n",
    "print(reviews.info())\n",
    "\n",
    "# Count missing values\n",
    "print(\"\\nMissing values per column:\")\n",
    "print(reviews.isnull().sum())\n"
   ]
  },
  {
   "cell_type": "markdown",
   "id": "6485e835-56c8-452a-857e-6b8d10a2e4ea",
   "metadata": {},
   "source": [
    "---\n",
    "No Cleaning needed."
   ]
  },
  {
   "cell_type": "markdown",
   "id": "8fac72f4-73f8-4cbd-a06c-6e8a258459da",
   "metadata": {},
   "source": [
    "## Explore score distribution"
   ]
  },
  {
   "cell_type": "code",
   "execution_count": 5,
   "id": "fbfce8cc-0746-410b-a207-9425b5db54f2",
   "metadata": {},
   "outputs": [
    {
     "data": {
      "image/png": "[encoded data removed]",
      "text/plain": [
       "<Figure size 640x480 with 1 Axes>"
      ]
     },
     "metadata": {},
     "output_type": "display_data"
    }
   ],
   "source": [
    "# Count how many reviews per score\n",
    "score_counts = reviews['score'].value_counts().sort_index()\n",
    "\n",
    "# Plot bar chart\n",
    "plt.bar(score_counts.index, score_counts.values)\n",
    "\n",
    "# Add labels\n",
    "plt.xlabel(\"Review Score\")\n",
    "plt.ylabel(\"Number of Reviews\")\n",
    "plt.title(\"Distribution of Review Scores\")\n",
    "\n",
    "# Annotate bars with counts\n",
    "for i, value in enumerate(score_counts.values):\n",
    "    plt.text(score_counts.index[i], value + 30, str(value), ha='center')\n",
    "\n",
    "plt.show()"
   ]
  },
  {
   "cell_type": "code",
   "execution_count": 6,
   "id": "27b4aa46-384a-4c98-92f2-cbe7b6c29745",
   "metadata": {},
   "outputs": [
    {
     "data": {
      "image/png": "[encoded data removed]",
      "text/plain": [
       "<Figure size 640x480 with 1 Axes>"
      ]
     },
     "metadata": {},
     "output_type": "display_data"
    }
   ],
   "source": [
    "reviews['sentiment'] = reviews['score'].apply(\n",
    "    lambda x: 'Negative' if x <= 2 else ('Positive' if x >= 4 else 'Neutral')\n",
    ")\n",
    "\n",
    "# Count per group\n",
    "sentiment_counts = reviews['sentiment'].value_counts()\n",
    "\n",
    "# Plot\n",
    "plt.bar(sentiment_counts.index, sentiment_counts.values, color=['red', 'gray', 'green'])\n",
    "plt.xlabel(\"Sentiment Group\")\n",
    "plt.ylabel(\"Number of Reviews\")\n",
    "plt.title(\"Sentiment Distribution of Google Play Reviews\")\n",
    "\n",
    "for i, value in enumerate(sentiment_counts.values):\n",
    "    plt.text(i, value + 50, str(value), ha='center')\n",
    "\n",
    "plt.show()"
   ]
  },
  {
   "cell_type": "markdown",
   "id": "0551b416-f858-4441-9186-b0d221eb77f4",
   "metadata": {},
   "source": [
    "---\n",
    "- Negative reviews (1–2 stars) = 4,850 reviews (~39%)\n",
    "\n",
    "- Positive reviews (4–5 stars) = 5,654 reviews (~45%)\n",
    "\n",
    "- Neutral-ish (3 stars) = 1,991 reviews (~16%)"
   ]
  },
  {
   "cell_type": "markdown",
   "id": "d2eb6870-d931-4839-a8f9-059640e3e6fa",
   "metadata": {},
   "source": [
    "## Focus on negative reviews\n",
    "\n",
    "Let’s filter reviews with scores 1 or 2."
   ]
  },
  {
   "cell_type": "code",
   "execution_count": 7,
   "id": "e899ddb9-5384-4a72-a01f-143b22fc97a1",
   "metadata": {},
   "outputs": [
    {
     "name": "stdout",
     "output_type": "stream",
     "text": [
      "Number of negative reviews: 4850\n"
     ]
    },
    {
     "data": {
      "text/html": [
       "<div>\n",
       "<style scoped>\n",
       "    .dataframe tbody tr th:only-of-type {\n",
       "        vertical-align: middle;\n",
       "    }\n",
       "\n",
       "    .dataframe tbody tr th {\n",
       "        vertical-align: top;\n",
       "    }\n",
       "\n",
       "    .dataframe thead th {\n",
       "        text-align: right;\n",
       "    }\n",
       "</style>\n",
       "<table border=\"1\" class=\"dataframe\">\n",
       "  <thead>\n",
       "    <tr style=\"text-align: right;\">\n",
       "      <th></th>\n",
       "      <th>content</th>\n",
       "      <th>score</th>\n",
       "      <th>sentiment</th>\n",
       "    </tr>\n",
       "  </thead>\n",
       "  <tbody>\n",
       "    <tr>\n",
       "      <th>0</th>\n",
       "      <td>I cannot open the app anymore</td>\n",
       "      <td>1</td>\n",
       "      <td>Negative</td>\n",
       "    </tr>\n",
       "    <tr>\n",
       "      <th>1</th>\n",
       "      <td>I have been begging for a refund from this app...</td>\n",
       "      <td>1</td>\n",
       "      <td>Negative</td>\n",
       "    </tr>\n",
       "    <tr>\n",
       "      <th>2</th>\n",
       "      <td>Very costly for the premium version (approx In...</td>\n",
       "      <td>1</td>\n",
       "      <td>Negative</td>\n",
       "    </tr>\n",
       "    <tr>\n",
       "      <th>3</th>\n",
       "      <td>Used to keep me organized, but all the 2020 UP...</td>\n",
       "      <td>1</td>\n",
       "      <td>Negative</td>\n",
       "    </tr>\n",
       "    <tr>\n",
       "      <th>4</th>\n",
       "      <td>Dan Birthday Oct 28</td>\n",
       "      <td>1</td>\n",
       "      <td>Negative</td>\n",
       "    </tr>\n",
       "    <tr>\n",
       "      <th>5</th>\n",
       "      <td>It has changed how I viewed my different lists...</td>\n",
       "      <td>1</td>\n",
       "      <td>Negative</td>\n",
       "    </tr>\n",
       "    <tr>\n",
       "      <th>6</th>\n",
       "      <td>I'm only looking for a grocery list app but ev...</td>\n",
       "      <td>1</td>\n",
       "      <td>Negative</td>\n",
       "    </tr>\n",
       "    <tr>\n",
       "      <th>7</th>\n",
       "      <td>Reset my free trial, new phone I'd like to see...</td>\n",
       "      <td>1</td>\n",
       "      <td>Negative</td>\n",
       "    </tr>\n",
       "    <tr>\n",
       "      <th>8</th>\n",
       "      <td>How do to stop monthly payment because i don't...</td>\n",
       "      <td>1</td>\n",
       "      <td>Negative</td>\n",
       "    </tr>\n",
       "    <tr>\n",
       "      <th>9</th>\n",
       "      <td>I complain about not crashes and it was immedi...</td>\n",
       "      <td>1</td>\n",
       "      <td>Negative</td>\n",
       "    </tr>\n",
       "  </tbody>\n",
       "</table>\n",
       "</div>"
      ],
      "text/plain": [
       "                                             content  score sentiment\n",
       "0                      I cannot open the app anymore      1  Negative\n",
       "1  I have been begging for a refund from this app...      1  Negative\n",
       "2  Very costly for the premium version (approx In...      1  Negative\n",
       "3  Used to keep me organized, but all the 2020 UP...      1  Negative\n",
       "4                                Dan Birthday Oct 28      1  Negative\n",
       "5  It has changed how I viewed my different lists...      1  Negative\n",
       "6  I'm only looking for a grocery list app but ev...      1  Negative\n",
       "7  Reset my free trial, new phone I'd like to see...      1  Negative\n",
       "8  How do to stop monthly payment because i don't...      1  Negative\n",
       "9  I complain about not crashes and it was immedi...      1  Negative"
      ]
     },
     "execution_count": 7,
     "metadata": {},
     "output_type": "execute_result"
    }
   ],
   "source": [
    "negative_reviews = reviews[reviews['score'] <= 2].copy()\n",
    "print(\"Number of negative reviews:\", len(negative_reviews))\n",
    "\n",
    "negative_reviews.head(10)"
   ]
  },
  {
   "cell_type": "markdown",
   "id": "19e8933b-984f-44a8-9a4c-013c77f46ebd",
   "metadata": {},
   "source": [
    "## 📝Text preprocessing (Cleaning)\n",
    "\n",
    "To clean the text for NLP - remove punctuation, stopwords, etc."
   ]
  },
  {
   "cell_type": "code",
   "execution_count": 8,
   "id": "a849ebd9-b818-4bf8-9af2-faffcdc1d25e",
   "metadata": {},
   "outputs": [
    {
     "data": {
      "text/html": [
       "<div>\n",
       "<style scoped>\n",
       "    .dataframe tbody tr th:only-of-type {\n",
       "        vertical-align: middle;\n",
       "    }\n",
       "\n",
       "    .dataframe tbody tr th {\n",
       "        vertical-align: top;\n",
       "    }\n",
       "\n",
       "    .dataframe thead th {\n",
       "        text-align: right;\n",
       "    }\n",
       "</style>\n",
       "<table border=\"1\" class=\"dataframe\">\n",
       "  <thead>\n",
       "    <tr style=\"text-align: right;\">\n",
       "      <th></th>\n",
       "      <th>content</th>\n",
       "      <th>clean_content</th>\n",
       "    </tr>\n",
       "  </thead>\n",
       "  <tbody>\n",
       "    <tr>\n",
       "      <th>0</th>\n",
       "      <td>I cannot open the app anymore</td>\n",
       "      <td>open app anymore</td>\n",
       "    </tr>\n",
       "    <tr>\n",
       "      <th>1</th>\n",
       "      <td>I have been begging for a refund from this app...</td>\n",
       "      <td>begging refund app month nobody replying</td>\n",
       "    </tr>\n",
       "    <tr>\n",
       "      <th>2</th>\n",
       "      <td>Very costly for the premium version (approx In...</td>\n",
       "      <td>costly premium version approx indian rupee per...</td>\n",
       "    </tr>\n",
       "    <tr>\n",
       "      <th>3</th>\n",
       "      <td>Used to keep me organized, but all the 2020 UP...</td>\n",
       "      <td>used keep organized update made mess thing cud...</td>\n",
       "    </tr>\n",
       "    <tr>\n",
       "      <th>4</th>\n",
       "      <td>Dan Birthday Oct 28</td>\n",
       "      <td>dan birthday oct</td>\n",
       "    </tr>\n",
       "  </tbody>\n",
       "</table>\n",
       "</div>"
      ],
      "text/plain": [
       "                                             content  \\\n",
       "0                      I cannot open the app anymore   \n",
       "1  I have been begging for a refund from this app...   \n",
       "2  Very costly for the premium version (approx In...   \n",
       "3  Used to keep me organized, but all the 2020 UP...   \n",
       "4                                Dan Birthday Oct 28   \n",
       "\n",
       "                                       clean_content  \n",
       "0                                   open app anymore  \n",
       "1           begging refund app month nobody replying  \n",
       "2  costly premium version approx indian rupee per...  \n",
       "3  used keep organized update made mess thing cud...  \n",
       "4                                   dan birthday oct  "
      ]
     },
     "execution_count": 8,
     "metadata": {},
     "output_type": "execute_result"
    }
   ],
   "source": [
    "stop_words = set(stopwords.words(\"english\"))\n",
    "lemmatizer = WordNetLemmatizer()\n",
    "\n",
    "# Function to preprocess text\n",
    "def preprocess_text(text):\n",
    "    text = str(text).lower()                           # Lowercase\n",
    "    text = re.sub(r'[^a-z\\s]', '', text)               # Remove punctuation/numbers\n",
    "    tokens = nltk.word_tokenize(text)                  # Tokenize\n",
    "    tokens = [lemmatizer.lemmatize(w) for w in tokens if w not in stop_words]  # Remove stopwords + lemmatize\n",
    "    return \" \".join(tokens)\n",
    "\n",
    "# Apply preprocessing to negative reviews\n",
    "negative_reviews['clean_content'] = negative_reviews['content'].apply(preprocess_text)\n",
    "\n",
    "negative_reviews[['content', 'clean_content']].head()"
   ]
  },
  {
   "cell_type": "markdown",
   "id": "1bcbac1f-c152-4dbe-9dc4-c4a792027503",
   "metadata": {},
   "source": [
    "---\n",
    "#### Explanation:\n",
    "- `str(text).lower()`: ensures all letters are lowercase.\n",
    "\n",
    "- `re.sub(r'[^a-z\\s]', '', text)`: removes numbers, punctuation, emojis, and special characters.\n",
    "\n",
    "- `nltk.word_tokenize(text)`: splits sentences into individual words.\n",
    "\n",
    "- `[lemmatizer.lemmatize(w) for w in tokens if w not in stop_words]`: removes filler words and reduces words to their base form for consistency."
   ]
  },
  {
   "cell_type": "markdown",
   "id": "707ea216-14db-4942-ab5d-347c9945100c",
   "metadata": {},
   "source": [
    "## Vectorize the cleaned negative reviews using TF-IDF"
   ]
  },
  {
   "cell_type": "code",
   "execution_count": 9,
   "id": "b83bd4ac-047f-4da4-85d5-777f6ab355b7",
   "metadata": {},
   "outputs": [
    {
     "name": "stdout",
     "output_type": "stream",
     "text": [
      "TF-IDF shape: (4850, 6764)\n"
     ]
    }
   ],
   "source": [
    "vectorizer = TfidfVectorizer()  \n",
    "X = vectorizer.fit_transform(negative_reviews['clean_content'])\n",
    "\n",
    "print(\"TF-IDF shape:\", X.shape)"
   ]
  },
  {
   "cell_type": "code",
   "execution_count": 10,
   "id": "b941eb33-5a29-48cf-8bf9-e19de925ff8b",
   "metadata": {},
   "outputs": [
    {
     "data": {
      "text/plain": [
       "array(['aa', 'aaah', 'aak', 'aap', 'aapako', 'abandon', 'abandoned',\n",
       "       'abc', 'abd', 'abdon', 'abhorrent', 'ability', 'able', 'abou',\n",
       "       'abound', 'abour', 'abre', 'abrir', 'abruptly', 'absolument'],\n",
       "      dtype=object)"
      ]
     },
     "execution_count": 10,
     "metadata": {},
     "output_type": "execute_result"
    }
   ],
   "source": [
    "vectorizer.get_feature_names_out()[:20]  # First 20 words/features"
   ]
  },
  {
   "cell_type": "markdown",
   "id": "b183efa2-6215-46eb-88b0-590585888212",
   "metadata": {},
   "source": [
    "---\n",
    "\n",
    "`TfidfVectorizer` converts text into numbers by weighing words based on frequency in the review vs. across all reviews."
   ]
  },
  {
   "cell_type": "markdown",
   "id": "3754d1e9-9bef-4d16-b47c-7e9001089693",
   "metadata": {},
   "source": [
    "## K-means Clustering"
   ]
  },
  {
   "cell_type": "code",
   "execution_count": 11,
   "id": "9265f558-5fb6-4155-9ed4-959dc5b7c481",
   "metadata": {},
   "outputs": [
    {
     "data": {
      "text/html": [
       "<div>\n",
       "<style scoped>\n",
       "    .dataframe tbody tr th:only-of-type {\n",
       "        vertical-align: middle;\n",
       "    }\n",
       "\n",
       "    .dataframe tbody tr th {\n",
       "        vertical-align: top;\n",
       "    }\n",
       "\n",
       "    .dataframe thead th {\n",
       "        text-align: right;\n",
       "    }\n",
       "</style>\n",
       "<table border=\"1\" class=\"dataframe\">\n",
       "  <thead>\n",
       "    <tr style=\"text-align: right;\">\n",
       "      <th></th>\n",
       "      <th>content</th>\n",
       "      <th>cluster</th>\n",
       "    </tr>\n",
       "  </thead>\n",
       "  <tbody>\n",
       "    <tr>\n",
       "      <th>0</th>\n",
       "      <td>I cannot open the app anymore</td>\n",
       "      <td>0</td>\n",
       "    </tr>\n",
       "    <tr>\n",
       "      <th>1</th>\n",
       "      <td>I have been begging for a refund from this app...</td>\n",
       "      <td>2</td>\n",
       "    </tr>\n",
       "    <tr>\n",
       "      <th>2</th>\n",
       "      <td>Very costly for the premium version (approx In...</td>\n",
       "      <td>3</td>\n",
       "    </tr>\n",
       "    <tr>\n",
       "      <th>3</th>\n",
       "      <td>Used to keep me organized, but all the 2020 UP...</td>\n",
       "      <td>2</td>\n",
       "    </tr>\n",
       "    <tr>\n",
       "      <th>4</th>\n",
       "      <td>Dan Birthday Oct 28</td>\n",
       "      <td>2</td>\n",
       "    </tr>\n",
       "    <tr>\n",
       "      <th>5</th>\n",
       "      <td>It has changed how I viewed my different lists...</td>\n",
       "      <td>2</td>\n",
       "    </tr>\n",
       "    <tr>\n",
       "      <th>6</th>\n",
       "      <td>I'm only looking for a grocery list app but ev...</td>\n",
       "      <td>1</td>\n",
       "    </tr>\n",
       "    <tr>\n",
       "      <th>7</th>\n",
       "      <td>Reset my free trial, new phone I'd like to see...</td>\n",
       "      <td>2</td>\n",
       "    </tr>\n",
       "    <tr>\n",
       "      <th>8</th>\n",
       "      <td>How do to stop monthly payment because i don't...</td>\n",
       "      <td>0</td>\n",
       "    </tr>\n",
       "    <tr>\n",
       "      <th>9</th>\n",
       "      <td>I complain about not crashes and it was immedi...</td>\n",
       "      <td>2</td>\n",
       "    </tr>\n",
       "  </tbody>\n",
       "</table>\n",
       "</div>"
      ],
      "text/plain": [
       "                                             content  cluster\n",
       "0                      I cannot open the app anymore        0\n",
       "1  I have been begging for a refund from this app...        2\n",
       "2  Very costly for the premium version (approx In...        3\n",
       "3  Used to keep me organized, but all the 2020 UP...        2\n",
       "4                                Dan Birthday Oct 28        2\n",
       "5  It has changed how I viewed my different lists...        2\n",
       "6  I'm only looking for a grocery list app but ev...        1\n",
       "7  Reset my free trial, new phone I'd like to see...        2\n",
       "8  How do to stop monthly payment because i don't...        0\n",
       "9  I complain about not crashes and it was immedi...        2"
      ]
     },
     "execution_count": 11,
     "metadata": {},
     "output_type": "execute_result"
    }
   ],
   "source": [
    "kmeans = KMeans(n_clusters=5, random_state=42)\n",
    "negative_reviews['cluster'] = kmeans.fit_predict(X)\n",
    "\n",
    "negative_reviews[['content', 'cluster']].head(10)"
   ]
  },
  {
   "cell_type": "markdown",
   "id": "138b48be-6e8c-4380-9723-401b45f602d3",
   "metadata": {},
   "source": [
    "--- \n",
    "\n",
    "* `k = 5` means we’ll group reviews into 5 clusters. You can experiment with different values later.\n",
    "\n",
    "* `fit_predict(X)` fits the K-means algorithm to the TF-IDF vectors and assigns each review a cluster label."
   ]
  },
  {
   "cell_type": "markdown",
   "id": "291f67d2-f6e7-4081-b3e8-89f09dfaef63",
   "metadata": {},
   "source": [
    "#### Check cluster sizes"
   ]
  },
  {
   "cell_type": "code",
   "execution_count": 12,
   "id": "a4d6ba98-e6c2-4951-aa71-a352ff43bfa1",
   "metadata": {},
   "outputs": [
    {
     "data": {
      "text/plain": [
       "cluster\n",
       "0    1201\n",
       "1     623\n",
       "2    2143\n",
       "3     487\n",
       "4     396\n",
       "Name: count, dtype: int64"
      ]
     },
     "execution_count": 12,
     "metadata": {},
     "output_type": "execute_result"
    }
   ],
   "source": [
    "# How many reviews in each cluster\n",
    "negative_reviews['cluster'].value_counts().sort_index()"
   ]
  },
  {
   "cell_type": "markdown",
   "id": "3102a5dd-d1ba-4093-be8e-9730ef334ab1",
   "metadata": {},
   "source": [
    "---\n",
    "**Cluster 2 is the largest**, so it likely contains the most common complaints."
   ]
  },
  {
   "cell_type": "markdown",
   "id": "2c24d1ee-c210-47db-9c65-cd184a9004a9",
   "metadata": {},
   "source": [
    "## 🔎 Viewing top words per cluster"
   ]
  },
  {
   "cell_type": "code",
   "execution_count": 13,
   "id": "c95bc773-888e-4690-9f2e-651f1e4cd563",
   "metadata": {},
   "outputs": [
    {
     "name": "stdout",
     "output_type": "stream",
     "text": [
      "Cluster 0: app, calendar, use, sync, google, time, phone, dont, work, cant\n",
      "Cluster 1: task, list, widget, work, app, doesnt, day, add, time, completed\n",
      "Cluster 2: good, cant, account, like, premium, time, bad, dont, even, work\n",
      "Cluster 3: version, ad, free, pro, app, full, paid, buy, premium, tree\n",
      "Cluster 4: reminder, notification, app, work, feature, set, dont, time, task, alarm\n"
     ]
    }
   ],
   "source": [
    "def get_top_terms(vectorizer, kmeans, n_terms=10):\n",
    "    terms = vectorizer.get_feature_names_out()\n",
    "    order_centroids = kmeans.cluster_centers_.argsort()[:, ::-1]  # Sort features by importance\n",
    "    for i in range(kmeans.n_clusters):\n",
    "        top_terms = [terms[ind] for ind in order_centroids[i, :n_terms]]\n",
    "        print(f\"Cluster {i}: {', '.join(top_terms)}\")\n",
    "\n",
    "get_top_terms(vectorizer, kmeans)"
   ]
  },
  {
   "cell_type": "markdown",
   "id": "d8cc7d25-6097-4021-b2c1-1a342368eafc",
   "metadata": {},
   "source": [
    "---\n",
    "\n",
    "#### Findings:\n",
    "\n",
    "- Cluster 0 & 1: Functional issues with core app features (sync, tasks, widgets)\n",
    "\n",
    "- Cluster 2: Account or subscription complaints\n",
    "\n",
    "- Cluster 3: Pricing, ads, and version frustrations\n",
    "\n",
    "- Cluster 4: Notifications and reminders\n",
    "\n",
    "This analysis allows the product team to prioritize fixes by focusing on the largest clusters first (e.g., Cluster 2 has the most reviews, so account/premium issues affect many users)."
   ]
  },
  {
   "cell_type": "markdown",
   "id": "95137b26-d2c9-4720-ba0b-0b2830f8000e",
   "metadata": {},
   "source": [
    "##  📊 Visualize Top Words per Cluster\n",
    "\n",
    "showing the most important words that define the cluster.  "
   ]
  },
  {
   "cell_type": "code",
   "execution_count": 14,
   "id": "43514910-8e6f-48c4-8562-15786dab3d62",
   "metadata": {},
   "outputs": [
    {
     "data": {
      "image/png": "[encoded data removed]",
      "text/plain": [
       "<Figure size 1600x500 with 2 Axes>"
      ]
     },
     "metadata": {},
     "output_type": "display_data"
    },
    {
     "data": {
      "image/png": "[encoded data removed]",
      "text/plain": [
       "<Figure size 1600x500 with 2 Axes>"
      ]
     },
     "metadata": {},
     "output_type": "display_data"
    },
    {
     "data": {
      "image/png": "[encoded data removed]",
      "text/plain": [
       "<Figure size 1600x500 with 1 Axes>"
      ]
     },
     "metadata": {},
     "output_type": "display_data"
    }
   ],
   "source": [
    "def plot_top_words_side_by_side(vectorizer, kmeans, n_terms=10):\n",
    "    terms = vectorizer.get_feature_names_out()\n",
    "    order_centroids = kmeans.cluster_centers_.argsort()[:, ::-1]\n",
    "    \n",
    "    num_clusters = kmeans.n_clusters\n",
    "    i = 0\n",
    "    while i < num_clusters:\n",
    "        n_subplots = 2 if i + 1 < num_clusters else 1\n",
    "        fig, axes = plt.subplots(1, n_subplots, figsize=(16,5))\n",
    "        if n_subplots == 1:\n",
    "            axes = [axes]  # Make it iterable\n",
    "        \n",
    "        for j in range(n_subplots):\n",
    "            cluster_idx = i + j\n",
    "            top_indices = order_centroids[cluster_idx, :n_terms]\n",
    "            top_terms = [terms[ind] for ind in top_indices]\n",
    "            top_weights = kmeans.cluster_centers_[cluster_idx, top_indices]\n",
    "            \n",
    "            axes[j].barh(top_terms[::-1], top_weights[::-1], color='lightgreen')\n",
    "            axes[j].set_xlabel(\"Importance (TF-IDF Weight)\")\n",
    "            axes[j].set_title(f\"Cluster {cluster_idx}\")\n",
    "        \n",
    "        plt.tight_layout()\n",
    "        plt.show()\n",
    "        i += n_subplots\n",
    "\n",
    "# Plot top words in side-by-side bar charts\n",
    "plot_top_words_side_by_side(vectorizer, kmeans, n_terms=10)\n"
   ]
  }
 ],
 "metadata": {
  "colab": {
   "name": "Welcome to DataCamp Workspaces.ipynb",
   "provenance": []
  },
  "editor": "DataLab",
  "kernelspec": {
   "display_name": "Python 3 (ipykernel)",
   "language": "python",
   "name": "python3"
  },
  "language_info": {
   "codemirror_mode": {
    "name": "ipython",
    "version": 3
   },
   "file_extension": ".py",
   "mimetype": "text/x-python",
   "name": "python",
   "nbconvert_exporter": "python",
   "pygments_lexer": "ipython3",
   "version": "3.12.4"
  }
 },
 "nbformat": 4,
 "nbformat_minor": 5
}
